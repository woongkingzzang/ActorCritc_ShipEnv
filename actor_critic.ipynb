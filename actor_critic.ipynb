{
 "cells": [
  {
   "cell_type": "markdown",
   "metadata": {
    "id": "_jQ1tEQCxwRx"
   },
   "source": [
    "##### Copyright 2020 The TensorFlow Authors."
   ]
  },
  {
   "cell_type": "code",
   "execution_count": 1,
   "metadata": {
    "cellView": "form",
    "execution": {
     "iopub.execute_input": "2021-04-07T18:34:56.687703Z",
     "iopub.status.busy": "2021-04-07T18:34:56.687063Z",
     "iopub.status.idle": "2021-04-07T18:34:56.689277Z",
     "shell.execute_reply": "2021-04-07T18:34:56.688823Z"
    },
    "id": "V_sgB_5dx1f1"
   },
   "outputs": [],
   "source": [
    "#@title Licensed under the Apache License, Version 2.0 (the \"License\");\n",
    "# you may not use this file except in compliance with the License.\n",
    "# You may obtain a copy of the License at\n",
    "#\n",
    "# https://www.apache.org/licenses/LICENSE-2.0\n",
    "#\n",
    "# Unless required by applicable law or agreed to in writing, software\n",
    "# distributed under the License is distributed on an \"AS IS\" BASIS,\n",
    "# WITHOUT WARRANTIES OR CONDITIONS OF ANY KIND, either express or implied.\n",
    "# See the License for the specific language governing permissions and\n",
    "# limitations under the License."
   ]
  },
  {
   "cell_type": "markdown",
   "metadata": {
    "id": "p62G8M_viUJp"
   },
   "source": [
    "# Actor-Critic 방법으로 CartPole의 문제 풀기\n"
   ]
  },
  {
   "cell_type": "markdown",
   "metadata": {
    "id": "-mJ2i6jvZ3sK"
   },
   "source": [
    "<table class=\"tfo-notebook-buttons\" align=\"left\">\n",
    "  <td><a target=\"_blank\" href=\"https://www.tensorflow.org/tutorials/reinforcement_learning/actor_critic\"><img src=\"https://www.tensorflow.org/images/tf_logo_32px.png\">TensorFlow.org에서 보기</a></td>\n",
    "  <td><a target=\"_blank\" href=\"https://colab.research.google.com/github/tensorflow/docs-l10n/blob/master/site/ko/tutorials/reinforcement_learning/actor_critic.ipynb\"><img src=\"https://www.tensorflow.org/images/colab_logo_32px.png\">Google Colab에서 실행</a></td>\n",
    "  <td><a target=\"_blank\" href=\"https://github.com/tensorflow/docs-l10n/blob/master/site/ko/tutorials/reinforcement_learning/actor_critic.ipynb\"><img src=\"https://www.tensorflow.org/images/GitHub-Mark-32px.png\">GitHub에서 소스 보기</a></td>\n",
    "  <td><a href=\"https://storage.googleapis.com/tensorflow_docs/docs-l10n/site/ko/tutorials/reinforcement_learning/actor_critic.ipynb\"><img src=\"https://www.tensorflow.org/images/download_logo_32px.png\">노트북 다운로드</a></td>\n",
    "</table>"
   ]
  },
  {
   "cell_type": "markdown",
   "metadata": {
    "id": "kFgN7h_wiUJq"
   },
   "source": [
    "이 튜토리얼에서는 TensorFlow로 [Actor-Critic](https://papers.nips.cc/paper/1786-actor-critic-algorithms.pdf) 방법을 구현하여 [Open AI Gym](https://gym.openai.com/) CartPole-V0 환경에서 에이전트를 훈련하는 방법을 보여줍니다. 독자가 강화 학습의 [정책 그래디언드 방법](https://papers.nips.cc/paper/1713-policy-gradient-methods-for-reinforcement-learning-with-function-approximation.pdf)에 어느 정도 익숙하다고 가정합니다.\n"
   ]
  },
  {
   "cell_type": "markdown",
   "metadata": {
    "id": "_kA10ZKRR0hi"
   },
   "source": [
    "**Actor-Critic 방법**\n",
    "\n",
    "Actor-Critic 방법은 가치 함수와 독립적인 정책 함수를 나타내는 [Temporal Difference(TD) 학습](https://en.wikipedia.org/wiki/Temporal_difference_learning) 방법입니다.\n",
    "\n",
    "정책 함수(또는 정책)는 에이전트가 주어진 상태에 따라 취할 수 있는 동작에 대한 확률 분포를 반환합니다. 가치 함수는 주어진 상태에서 시작하여 특정 정책에 따라 영원히 동작하는 에이전트의 예상 이익을 결정합니다.\n",
    "\n",
    "Actor-Critic 방법에서 정책은 주어진 상태에 따라 가능한 일련의 동작을 제안하는 *행위자*라고 하며, 추정값 함수는 주어진 정책에 따라 *행위자*가 취한 동작을 평가하는 *비평가*라고 합니다.\n",
    "\n",
    "이 튜토리얼에서 *행위자*와 *비평가* 모두 두 개의 출력이 있는 하나의 신경망을 사용하여 표현됩니다.\n"
   ]
  },
  {
   "cell_type": "markdown",
   "metadata": {
    "id": "rBfiafKSRs2k"
   },
   "source": [
    "**CartPole-v0**\n",
    "\n",
    "[CartPole-v0 환경](https://gym.openai.com/envs/CartPole-v0)에서는 마찰이 없는 트랙을 따라 이동하는 카트에 막대가 연결되어 있습니다. 막대는 똑바른 상태에서 시작되고 에이전트의 목표는 카트에 -1 또는 +1의 힘을 가하여 카트가 넘어지는 것을 방지하는 것입니다. 막대가 똑바로 유지될 때마다 +1의 보상이 주어집니다. 에피소드는 (1) 막대가 수직에서 15도 이상 기울어지거나 (2) 카트가 중앙에서 2.4 단위 이상 이동하면 끝납니다.\n",
    "\n",
    "<center>\n",
    "  <figure>\n",
    "    <image src=\"images/cartpole-v0.gif\">\n",
    "    <figcaption>Cartpole-v0 환경에서 훈련된 Actor-Critic 모델</figcaption>\n",
    "  </image></figure>\n",
    "</center>\n"
   ]
  },
  {
   "cell_type": "markdown",
   "metadata": {
    "id": "XSNVK0AeRoJd"
   },
   "source": [
    "이 문제는 에피소드에 대한 평균 총 보상이 100회 연속 시도에서 195에 도달하면 \"해결\"된 것으로 간주됩니다."
   ]
  },
  {
   "cell_type": "markdown",
   "metadata": {
    "id": "glLwIctHiUJq"
   },
   "source": [
    "## 설정\n",
    "\n",
    "필요한 패키지를 가져오고 전역 설정을 구성합니다.\n"
   ]
  },
  {
   "cell_type": "code",
   "execution_count": 2,
   "metadata": {
    "execution": {
     "iopub.execute_input": "2021-04-07T18:34:56.697194Z",
     "iopub.status.busy": "2021-04-07T18:34:56.696625Z",
     "iopub.status.idle": "2021-04-07T18:35:00.982792Z",
     "shell.execute_reply": "2021-04-07T18:35:00.983185Z"
    },
    "id": "13l6BbxKhCKp"
   },
   "outputs": [],
   "source": [
    "!pip install -q gym"
   ]
  },
  {
   "cell_type": "code",
   "execution_count": 3,
   "metadata": {
    "execution": {
     "iopub.execute_input": "2021-04-07T18:35:00.988033Z",
     "iopub.status.busy": "2021-04-07T18:35:00.987347Z",
     "iopub.status.idle": "2021-04-07T18:35:18.509947Z",
     "shell.execute_reply": "2021-04-07T18:35:18.509281Z"
    },
    "id": "WBeQhPi2S4m5"
   },
   "outputs": [],
   "source": [
    "%%bash\n",
    "# Install additional packages for visualization\n",
    "sudo apt-get install -y xvfb python-opengl > /dev/null 2>&1\n",
    "pip install -q pyvirtualdisplay > /dev/null 2>&1\n",
    "pip install -q git+https://github.com/tensorflow/docs > /dev/null 2>&1"
   ]
  },
  {
   "cell_type": "code",
   "execution_count": 1,
   "metadata": {},
   "outputs": [],
   "source": [
    "from gym.envs.registration import register\n",
    "import gym\n",
    "register(\n",
    "    id='ShipEnv-v0',\n",
    "    entry_point='gym_env:ShipEnv',\n",
    ")"
   ]
  },
  {
   "cell_type": "code",
   "execution_count": 2,
   "metadata": {
    "execution": {
     "iopub.execute_input": "2021-04-07T18:35:18.516409Z",
     "iopub.status.busy": "2021-04-07T18:35:18.515449Z",
     "iopub.status.idle": "2021-04-07T18:35:24.395772Z",
     "shell.execute_reply": "2021-04-07T18:35:24.395194Z"
    },
    "id": "tT4N3qYviUJr"
   },
   "outputs": [
    {
     "name": "stdout",
     "output_type": "stream",
     "text": [
      "The Zen of Python, by Tim Peters\n",
      "\n",
      "Beautiful is better than ugly.\n",
      "Explicit is better than implicit.\n",
      "Simple is better than complex.\n",
      "Complex is better than complicated.\n",
      "Flat is better than nested.\n",
      "Sparse is better than dense.\n",
      "Readability counts.\n",
      "Special cases aren't special enough to break the rules.\n",
      "Although practicality beats purity.\n",
      "Errors should never pass silently.\n",
      "Unless explicitly silenced.\n",
      "In the face of ambiguity, refuse the temptation to guess.\n",
      "There should be one-- and preferably only one --obvious way to do it.\n",
      "Although that way may not be obvious at first unless you're Dutch.\n",
      "Now is better than never.\n",
      "Although never is often better than *right* now.\n",
      "If the implementation is hard to explain, it's a bad idea.\n",
      "If the implementation is easy to explain, it may be a good idea.\n",
      "Namespaces are one honking great idea -- let's do more of those!\n"
     ]
    },
    {
     "name": "stderr",
     "output_type": "stream",
     "text": [
      "/Users/woogkingzzang/miniforge3/envs/kdw/lib/python3.8/site-packages/matplotlib_inline/config.py:66: DeprecationWarning: InlineBackend._figure_formats_changed is deprecated in traitlets 4.1: use @observe and @unobserve instead.\n",
      "  def _figure_formats_changed(self, name, old, new):\n",
      "/Users/woogkingzzang/miniforge3/envs/kdw/lib/python3.8/site-packages/gym/core.py:172: DeprecationWarning: \u001b[33mWARN: Function `env.seed(seed)` is marked as deprecated and will be removed in the future. Please use `env.reset(seed=seed) instead.\u001b[0m\n",
      "  deprecation(\n"
     ]
    }
   ],
   "source": [
    "import collections\n",
    "# import gym\n",
    "import numpy as np\n",
    "import tensorflow as tf\n",
    "import tqdm\n",
    "\n",
    "from matplotlib import pyplot as plt\n",
    "from tensorflow.keras import layers\n",
    "from typing import Any, List, Sequence, Tuple\n",
    "\n",
    "from gym_env import ShipEnv\n",
    "\n",
    "# register(\n",
    "#     id='wkz-v0',\n",
    "#     entry_point='gym_env:ShipEnv',\n",
    "# )\n",
    "\n",
    "# Create the environment\n",
    "env = gym.make(\"ShipEnv-v0\")\n",
    "\n",
    "# Set seed for experiment reproducibility\n",
    "seed = 42\n",
    "env.seed(seed)\n",
    "tf.random.set_seed(seed)\n",
    "np.random.seed(seed)\n",
    "\n",
    "# Small epsilon value for stabilizing division operations\n",
    "eps = np.finfo(np.float32).eps.item()"
   ]
  },
  {
   "cell_type": "markdown",
   "metadata": {
    "id": "AOUCe2D0iUJu"
   },
   "source": [
    "## 모델\n",
    "\n",
    "*행위자*와 *비평가*는 각각 동작 확률과 비평 값을 생성하는 하나의 신경망을 사용하여 모델링됩니다. 모델 하위 클래스화를 사용하여 모델을 정의합니다.\n",
    "\n",
    "순방향 전달 중에 모델은 상태를 입력으로 받고 상태 종속 [값 함수](https://spinningup.openai.com/en/latest/spinningup/rl_intro.html#value-functions)를 모델링하는 동작 확률과 비평 값 $V$를 모두 출력합니다. 목표는 예상 [이익](https://spinningup.openai.com/en/latest/spinningup/rl_intro.html#reward-and-return)을 최대화하는 $\\pi$ 정책을 기반으로 행동을 선택하는 모델을 훈련하는 것입니다.\n",
    "\n",
    "Cartpole-v0의 경우, 상태를 나타내는 네 가지 값이 있는데, 각각 카트 위치, 카트 속도, 막대 각도 및 막대 속도입니다. 에이전트는 카트를 각각 왼쪽(0)과 오른쪽(1)으로 밀기 위해 두 가지 동작을 취할 수 있습니다.\n",
    "\n",
    "자세한 내용은 [OpenAI Gym의 CartPole-v0 위키 페이지](http://www.derongliu.org/adp/adp-cdrom/Barto1983.pdf)를 참조하세요.\n"
   ]
  },
  {
   "cell_type": "code",
   "execution_count": 3,
   "metadata": {
    "execution": {
     "iopub.execute_input": "2021-04-07T18:35:24.402042Z",
     "iopub.status.busy": "2021-04-07T18:35:24.401441Z",
     "iopub.status.idle": "2021-04-07T18:35:24.403568Z",
     "shell.execute_reply": "2021-04-07T18:35:24.403111Z"
    },
    "id": "aXKbbMC-kmuv"
   },
   "outputs": [],
   "source": [
    "class ActorCritic(tf.keras.Model):\n",
    "  \"\"\"Combined actor-critic network.\"\"\"\n",
    "\n",
    "  def __init__(\n",
    "      self, \n",
    "      num_actions: int, \n",
    "      num_hidden_units: int):\n",
    "    \"\"\"Initialize.\"\"\"\n",
    "    super().__init__()\n",
    "\n",
    "    self.common = layers.Dense(num_hidden_units, activation=\"relu\")\n",
    "    self.actor = layers.Dense(num_actions)\n",
    "    self.critic = layers.Dense(1)\n",
    "\n",
    "  def call(self, inputs: tf.Tensor) -> Tuple[tf.Tensor, tf.Tensor]:\n",
    "    x = self.common(inputs)\n",
    "    return self.actor(x), self.critic(x)"
   ]
  },
  {
   "cell_type": "code",
   "execution_count": 4,
   "metadata": {
    "execution": {
     "iopub.execute_input": "2021-04-07T18:35:24.407104Z",
     "iopub.status.busy": "2021-04-07T18:35:24.406547Z",
     "iopub.status.idle": "2021-04-07T18:35:26.003711Z",
     "shell.execute_reply": "2021-04-07T18:35:26.003002Z"
    },
    "id": "nWyxJgjLn68c"
   },
   "outputs": [
    {
     "name": "stdout",
     "output_type": "stream",
     "text": [
      "Metal device set to: Apple M1\n",
      "\n",
      "systemMemory: 16.00 GB\n",
      "maxCacheSize: 5.33 GB\n",
      "\n"
     ]
    },
    {
     "name": "stderr",
     "output_type": "stream",
     "text": [
      "2022-03-17 00:02:46.235875: I tensorflow/core/common_runtime/pluggable_device/pluggable_device_factory.cc:305] Could not identify NUMA node of platform GPU ID 0, defaulting to 0. Your kernel may not have been built with NUMA support.\n",
      "2022-03-17 00:02:46.236552: I tensorflow/core/common_runtime/pluggable_device/pluggable_device_factory.cc:271] Created TensorFlow device (/job:localhost/replica:0/task:0/device:GPU:0 with 0 MB memory) -> physical PluggableDevice (device: 0, name: METAL, pci bus id: <undefined>)\n"
     ]
    }
   ],
   "source": [
    "num_actions = env.action_space.n  # 2\n",
    "num_hidden_units = 128\n",
    "\n",
    "model = ActorCritic(num_actions, num_hidden_units)"
   ]
  },
  {
   "cell_type": "markdown",
   "metadata": {
    "id": "hk92njFziUJw"
   },
   "source": [
    "## 훈련\n",
    "\n",
    "에이전트를 훈련하기 위해 다음 단계를 따릅니다.\n",
    "\n",
    "1. 환경에서 에이전트를 실행하여 에피소드별로 훈련 데이터를 수집합니다.\n",
    "2. 각 시간 스텝에서 예상 이익을 계산합니다.\n",
    "3. 결합된 Actor-Critic 모델의 손실을 계산합니다.\n",
    "4. 그래디언트를 계산하고 네트워크 매개변수를 업데이트합니다.\n",
    "5. 성공 기준 또는 최대 에피소드에 도달할 때까지 1~4를 반복합니다.\n"
   ]
  },
  {
   "cell_type": "markdown",
   "metadata": {
    "id": "R2nde2XDs8Gh"
   },
   "source": [
    "### 1. 훈련 데이터 수집하기\n",
    "\n",
    "지도 학습에서와 같이 Actor-Critic 모델을 훈련하려면 훈련 데이터가 필요합니다. 그러나, 이러한 데이터를 수집하려면 모델이 환경에서 \"실행\"되어야 합니다.\n",
    "\n",
    "여기서는 각 에피소드에 대한 훈련 데이터를 수집합니다. 그런 다음, 모델의 가중치에 의해 매개변수화된 현재 정책을 기반으로 동작 확률과 비평 값을 생성하기 위해 각 타임스텝에서 모델의 순방향 전달을 환경의 상태에서 실행합니다.\n",
    "\n",
    "다음 동작은 모델에 의해 생성된 동작 확률로부터 샘플링되며, 그런 다음 환경에 적용되어 다음 상태와 보상을 생성합니다.\n",
    "\n",
    "이 프로세스는 더 빠른 훈련을 위해 나중에 TensorFlow 그래프로 컴파일할 수 있도록 TensorFlow 연산을 사용하는 `run_episode` 함수에서 구현됩니다. `tf.TensorArray`는 가변 길이 배열에서 Tensor 반복을 지원하는 데 사용되었습니다."
   ]
  },
  {
   "cell_type": "code",
   "execution_count": 5,
   "metadata": {
    "execution": {
     "iopub.execute_input": "2021-04-07T18:35:26.010136Z",
     "iopub.status.busy": "2021-04-07T18:35:26.009506Z",
     "iopub.status.idle": "2021-04-07T18:35:26.011321Z",
     "shell.execute_reply": "2021-04-07T18:35:26.011695Z"
    },
    "id": "5URrbGlDSAGx"
   },
   "outputs": [],
   "source": [
    "# Wrap OpenAI Gym's `env.step` call as an operation in a TensorFlow function.\n",
    "# This would allow it to be included in a callable TensorFlow graph.\n",
    "\n",
    "def env_step(action: np.ndarray) -> Tuple[np.ndarray, np.ndarray, np.ndarray]:\n",
    "  \"\"\"Returns state, reward and done flag given an action.\"\"\"\n",
    "\n",
    "  state, reward, done, _ = env.step(action)\n",
    "  return (state.astype(np.float32), \n",
    "          np.array(reward, np.int32), \n",
    "          np.array(done, np.int32))\n",
    "\n",
    "\n",
    "def tf_env_step(action: tf.Tensor) -> List[tf.Tensor]:\n",
    "  return tf.numpy_function(env_step, [action], \n",
    "                           [tf.float32, tf.int32, tf.int32])"
   ]
  },
  {
   "cell_type": "code",
   "execution_count": 6,
   "metadata": {
    "execution": {
     "iopub.execute_input": "2021-04-07T18:35:26.019564Z",
     "iopub.status.busy": "2021-04-07T18:35:26.018923Z",
     "iopub.status.idle": "2021-04-07T18:35:26.020779Z",
     "shell.execute_reply": "2021-04-07T18:35:26.021148Z"
    },
    "id": "a4qVRV063Cl9"
   },
   "outputs": [],
   "source": [
    "def run_episode(\n",
    "    initial_state: tf.Tensor,  \n",
    "    model: tf.keras.Model, \n",
    "    max_steps: int) -> List[tf.Tensor]:\n",
    "  \"\"\"Runs a single episode to collect training data.\"\"\"\n",
    "\n",
    "  action_probs = tf.TensorArray(dtype=tf.float32, size=0, dynamic_size=True)\n",
    "  values = tf.TensorArray(dtype=tf.float32, size=0, dynamic_size=True)\n",
    "  rewards = tf.TensorArray(dtype=tf.int32, size=0, dynamic_size=True)\n",
    "\n",
    "  initial_state_shape = initial_state.shape\n",
    "  state = initial_state\n",
    "\n",
    "  for t in tf.range(max_steps):\n",
    "    # Convert state into a batched tensor (batch size = 1)\n",
    "    state = tf.expand_dims(state, 0)\n",
    "  \n",
    "    # Run the model and to get action probabilities and critic value\n",
    "    action_logits_t, value = model(state)\n",
    "  \n",
    "    # Sample next action from the action probability distribution\n",
    "    action = tf.random.categorical(action_logits_t, 1)[0, 0]\n",
    "    action_probs_t = tf.nn.softmax(action_logits_t)\n",
    "\n",
    "    # Store critic values\n",
    "    values = values.write(t, tf.squeeze(value))\n",
    "\n",
    "    # Store log probability of the action chosen\n",
    "    action_probs = action_probs.write(t, action_probs_t[0, action])\n",
    "  \n",
    "    # Apply action to the environment to get next state and reward\n",
    "    state, reward, done = tf_env_step(action)\n",
    "    state.set_shape(initial_state_shape)\n",
    "  \n",
    "    # Store reward\n",
    "    rewards = rewards.write(t, reward)\n",
    "\n",
    "    if tf.cast(done, tf.bool):\n",
    "      break\n",
    "\n",
    "  action_probs = action_probs.stack()\n",
    "  values = values.stack()\n",
    "  rewards = rewards.stack()\n",
    "  \n",
    "  return action_probs, values, rewards"
   ]
  },
  {
   "cell_type": "markdown",
   "metadata": {
    "id": "lBnIHdz22dIx"
   },
   "source": [
    "### 2. 예상 이익 계산하기\n",
    "\n",
    "한 에피소드 동안 수집된 각 타임스텝 $t$, ${r_{t}}^{T}*{t=1}$에서 보상의 시퀀스를 예상 이익 ${G*{t}}^{T}_{t=1}$의 시퀀스로 변환합니다. 여기서 보상의 합계는 현재 타임스텝 $t$에서 $T$까지 계산되며, 각 보상에 기하 급수적으로 감소하는 할인 계수 $\\gamma$를 곱합니다.\n",
    "\n",
    "$$G_{t} = \\sum^{T}{t'=t} \\gamma^{t'-t}r{t'}$$\n",
    "\n",
    "$\\gamma\\in(0,1)$ 이후, 현재 타임스텝에서 더 멀리 떨어진 보상에는 더 적은 가중치가 부여됩니다.\n",
    "\n",
    "직관적으로, 예상 이익은 단순히 지금 보상이 이후 보상보다 낫다는 것을 암시합니다. 이것은 수학적 의미에서 보상의 합이 수렴하도록 하려는 것입니다.\n",
    "\n",
    "또한, 훈련을 안정화하기 위해 이익의 결과 시퀀스를 표준화합니다(즉, 평균이 0이고 단위 표준 편차를 갖도록 함).\n"
   ]
  },
  {
   "cell_type": "code",
   "execution_count": 7,
   "metadata": {
    "execution": {
     "iopub.execute_input": "2021-04-07T18:35:26.027383Z",
     "iopub.status.busy": "2021-04-07T18:35:26.026806Z",
     "iopub.status.idle": "2021-04-07T18:35:26.028454Z",
     "shell.execute_reply": "2021-04-07T18:35:26.028794Z"
    },
    "id": "jpEwFyl315dl"
   },
   "outputs": [],
   "source": [
    "def get_expected_return(\n",
    "    rewards: tf.Tensor, \n",
    "    gamma: float, \n",
    "    standardize: bool = True) -> tf.Tensor:\n",
    "  \"\"\"Compute expected returns per timestep.\"\"\"\n",
    "\n",
    "  n = tf.shape(rewards)[0]\n",
    "  returns = tf.TensorArray(dtype=tf.float32, size=n)\n",
    "\n",
    "  # Start from the end of `rewards` and accumulate reward sums\n",
    "  # into the `returns` array\n",
    "  rewards = tf.cast(rewards[::-1], dtype=tf.float32)\n",
    "  discounted_sum = tf.constant(0.0)\n",
    "  discounted_sum_shape = discounted_sum.shape\n",
    "  for i in tf.range(n):\n",
    "    reward = rewards[i]\n",
    "    discounted_sum = reward + gamma * discounted_sum\n",
    "    discounted_sum.set_shape(discounted_sum_shape)\n",
    "    returns = returns.write(i, discounted_sum)\n",
    "  returns = returns.stack()[::-1]\n",
    "\n",
    "  if standardize:\n",
    "    returns = ((returns - tf.math.reduce_mean(returns)) / \n",
    "               (tf.math.reduce_std(returns) + eps))\n",
    "\n",
    "  return returns"
   ]
  },
  {
   "cell_type": "markdown",
   "metadata": {
    "id": "1hrPLrgGxlvb"
   },
   "source": [
    "### 3. Actor-Critic 손실\n",
    "\n",
    "여기서는 하이브리드 Actor-Critic 모델을 사용하고 있기 때문에 아래와 같이 훈련을 위해 행위자와 비평가 손실의 조합인 손실 함수를 사용합니다.\n",
    "\n",
    "$$L = L_{actor} + L_{critic}$$\n",
    "\n",
    "#### Actor 손실\n",
    "\n",
    "[비평가가 상태 종속 기준선인 정책 그래디언트](https://www.youtube.com/watch?v=EKqxumCuAAY&t=62m23s)를 기반으로 행위자 손실을 공식화하고 단일 샘플(에피소드별) 추정치를 계산합니다.\n",
    "\n",
    "$$L_{actor} = -\\sum^{T}*{t=1} log\\pi*{\\theta}(a_{t} | s_{t})[G(s_{t}, a_{t})  - V^{\\pi}*{\\theta}(s*{t})]$$\n",
    "\n",
    "여기서:\n",
    "\n",
    "- $T$: 에피소드별로 달라질 수 있는 에피소드별 타임스텝의 수\n",
    "- $s_{t}$: $t$ 타임스텝의 상태\n",
    "- $a_{t}$: $s$ 상태에 따라 $t$ 타임스텝에서 선택된 동작\n",
    "- $\\pi_{\\theta}$: $\\theta$에 의해 매개변수화된 정책(행위자)\n",
    "- $V^{\\pi}_{\\theta}$: 마찬가지로 $\\theta$에 의해 매개변수화된 값 함수(비평가)\n",
    "- $G = G_{t}$: 주어진 상태에 대한 예상 이익, 타임스텝 $t$에서 동작 쌍\n",
    "\n",
    "결합된 손실을 최소화하여 보상이 더 높은 행동의 확률을 최대화하려고 하므로 합계에 음의 항을 추가합니다.\n",
    "\n",
    "<br>\n",
    "\n",
    "##### 이점\n",
    "\n",
    "$L_{actor}$ 공식에서 $G - V$ 항을 [이점](https://spinningup.openai.com/en/latest/spinningup/rl_intro.html#advantage-functions)이라고 하며, 이는 특정한 상태에서 $\\pi$ 정책에 따라 선택된 임의의 동작보다 이 상태에 얼마나 더 나은 동작이 주어지는지를 나타냅니다.\n",
    "\n",
    "기준선을 제외할 수 있지만 이로 인해 훈련 중에 큰 변동이 발생할 수 있습니다. 그리고 비평가 $V$를 기준선으로 선택할 때의 좋은 점은 가능한 한 $G$에 가깝게 훈련되어 변동이 낮아진다는 것입니다.\n",
    "\n",
    "또한, 비평가가 없으면 알고리즘이 예상 이익을 바탕으로 특정 상태에서 취하는 행동의 확률을 높이려고 시도할 것이며, 이 때 동작 사이의 상대적 확률이 같게 유지된다면 큰 차이가 생기지 않습니다.\n",
    "\n",
    "예를 들어, 주어진 상태에서 두 행동의 예상 이익이 같다고 가정합니다. 비평가가 없으면 알고리즘은 목표 $J$에 따라 이들 동작의 확률을 높이려고 합니다. 비평가의 경우, 이점($G - V = 0$)이 없기 때문에 동작의 확률을 높이는 데 따른 이점이 없으며 알고리즘이 그래디언트를 0으로 설정합니다.\n",
    "\n",
    "<br>\n",
    "\n",
    "#### 비평가 손실\n",
    "\n",
    "$V$를 $G$에 최대한 가깝게 훈련하는 것은 다음 손실 함수를 사용한 회귀 문제로 설정할 수 있습니다.\n",
    "\n",
    "$$L_{critic} = L_{\\delta}(G, V^{\\pi}_{\\theta})$$\n",
    "\n",
    "여기서 $L_{\\delta}$는 [Huber 손실](https://en.wikipedia.org/wiki/Huber_loss)로, 제곱 오차 손실보다 데이터의 이상 값에 덜 민감합니다.\n"
   ]
  },
  {
   "cell_type": "code",
   "execution_count": 8,
   "metadata": {
    "execution": {
     "iopub.execute_input": "2021-04-07T18:35:26.033684Z",
     "iopub.status.busy": "2021-04-07T18:35:26.033116Z",
     "iopub.status.idle": "2021-04-07T18:35:26.035350Z",
     "shell.execute_reply": "2021-04-07T18:35:26.034834Z"
    },
    "id": "9EXwbEez6n9m"
   },
   "outputs": [],
   "source": [
    "huber_loss = tf.keras.losses.Huber(reduction=tf.keras.losses.Reduction.SUM)\n",
    "\n",
    "def compute_loss(\n",
    "    action_probs: tf.Tensor,  \n",
    "    values: tf.Tensor,  \n",
    "    returns: tf.Tensor) -> tf.Tensor:\n",
    "  \"\"\"Computes the combined actor-critic loss.\"\"\"\n",
    "\n",
    "  advantage = returns - values\n",
    "\n",
    "  action_log_probs = tf.math.log(action_probs)\n",
    "  actor_loss = -tf.math.reduce_sum(action_log_probs * advantage)\n",
    "\n",
    "  critic_loss = huber_loss(values, returns)\n",
    "\n",
    "  return actor_loss + critic_loss"
   ]
  },
  {
   "cell_type": "markdown",
   "metadata": {
    "id": "HSYkQOmRfV75"
   },
   "source": [
    "### 4. 매개변수를 업데이트하기 위한 훈련 단계 정의하기\n",
    "\n",
    "위의 모든 단계를 모든 에피소드에서 실행되는 훈련 단계로 결합합니다. 손실 함수로 이어지는 모든 단계는 `tf.GradientTape` 컨텍스트로 실행되어 자동 미분이 가능합니다.\n",
    "\n",
    "Adam 옵티마이저를 사용하여 모델 매개변수에 그래디언트를 적용합니다.\n",
    "\n",
    "또한 이 단계에서 할인되지 않은 보상의 합계인 `episode_reward`를 계산합니다. 이 단계는 나중에 성공 기준을 충족했는지 평가하는 데 사용됩니다.\n",
    "\n",
    "`tf.function` 컨텍스트를 `train_step` 함수에 적용하여 호출 가능한 TensorFlow 그래프로 컴파일할 수 있고, 그러면 훈련 속도가 10배 빨라질 수 있습니다.\n"
   ]
  },
  {
   "cell_type": "code",
   "execution_count": 9,
   "metadata": {
    "execution": {
     "iopub.execute_input": "2021-04-07T18:35:26.041950Z",
     "iopub.status.busy": "2021-04-07T18:35:26.041358Z",
     "iopub.status.idle": "2021-04-07T18:35:26.042971Z",
     "shell.execute_reply": "2021-04-07T18:35:26.043340Z"
    },
    "id": "QoccrkF3IFCg"
   },
   "outputs": [],
   "source": [
    "optimizer = tf.keras.optimizers.Adam(learning_rate=0.01)\n",
    "\n",
    "\n",
    "@tf.function\n",
    "def train_step(\n",
    "    initial_state: tf.Tensor, \n",
    "    model: tf.keras.Model, \n",
    "    optimizer: tf.keras.optimizers.Optimizer, \n",
    "    gamma: float, \n",
    "    max_steps_per_episode: int) -> tf.Tensor:\n",
    "  \"\"\"Runs a model training step.\"\"\"\n",
    "\n",
    "  with tf.GradientTape() as tape:\n",
    "\n",
    "    # Run the model for one episode to collect training data\n",
    "    action_probs, values, rewards = run_episode(\n",
    "        initial_state, model, max_steps_per_episode) \n",
    "\n",
    "    # Calculate expected returns\n",
    "    returns = get_expected_return(rewards, gamma)\n",
    "\n",
    "    # Convert training data to appropriate TF tensor shapes\n",
    "    action_probs, values, returns = [\n",
    "        tf.expand_dims(x, 1) for x in [action_probs, values, returns]] \n",
    "\n",
    "    # Calculating loss values to update our network\n",
    "    loss = compute_loss(action_probs, values, returns)\n",
    "\n",
    "  # Compute the gradients from the loss\n",
    "  grads = tape.gradient(loss, model.trainable_variables)\n",
    "\n",
    "  # Apply the gradients to the model's parameters\n",
    "  optimizer.apply_gradients(zip(grads, model.trainable_variables))\n",
    "\n",
    "  episode_reward = tf.math.reduce_sum(rewards)\n",
    "\n",
    "  return episode_reward"
   ]
  },
  {
   "cell_type": "markdown",
   "metadata": {
    "id": "HFvZiDoAflGK"
   },
   "source": [
    "### 5. 훈련 루프 실행하기\n",
    "\n",
    "성공 기준 또는 최대 에피소드 수에 도달할 때까지 훈련 단계를 실행하는 방식으로 훈련을 실행합니다.\n",
    "\n",
    "대기열을 사용하여 에피소드 보상의 실행 레코드를 유지합니다. 100회 시도에 도달하면 가장 오래된 보상이 대기열의 왼쪽 (꼬리쪽) 끝에서 제거되고 최근 보상이 머리쪽 (오른쪽)에 추가됩니다. 계산 효율을 높이기 위해 보상의 누적 합계도 유지됩니다.\n",
    "\n",
    "런타임에 따라 훈련은 1분 이내에 완료될 수 있습니다."
   ]
  },
  {
   "cell_type": "code",
   "execution_count": 10,
   "metadata": {
    "execution": {
     "iopub.execute_input": "2021-04-07T18:35:26.048072Z",
     "iopub.status.busy": "2021-04-07T18:35:26.047413Z",
     "iopub.status.idle": "2021-04-07T18:40:26.968934Z",
     "shell.execute_reply": "2021-04-07T18:40:26.969333Z"
    },
    "id": "kbmBxnzLiUJx"
   },
   "outputs": [
    {
     "name": "stderr",
     "output_type": "stream",
     "text": [
      "  0%|          | 0/10000 [00:00<?, ?it/s]2022-03-17 00:03:05.877050: I tensorflow/compiler/mlir/mlir_graph_optimization_pass.cc:185] None of the MLIR Optimization Passes are enabled (registered 2)\n",
      "2022-03-17 00:03:05.889484: W tensorflow/core/platform/profile_utils/cpu_utils.cc:128] Failed to get CPU frequency: 0 Hz\n",
      "2022-03-17 00:03:05.891016: I tensorflow/core/grappler/optimizers/custom_graph_optimizer_registry.cc:112] Plugin optimizer for device_type GPU is enabled.\n",
      "  0%|          | 0/10000 [00:01<?, ?it/s]\n"
     ]
    },
    {
     "ename": "InvalidArgumentError",
     "evalue": "2 root error(s) found.\n  (0) Invalid argument:  Tried to append a tensor with incompatible shape to a list. Op element shape: [1,4] list shape: [1,2]\n\t [[{{node while/body/_1/while/TensorListPushBack_12}}]]\n\t [[Func/gradient_tape/while/while_grad/body/_172/input/_470/_86]]\n  (1) Invalid argument:  Tried to append a tensor with incompatible shape to a list. Op element shape: [1,4] list shape: [1,2]\n\t [[{{node while/body/_1/while/TensorListPushBack_12}}]]\n0 successful operations.\n0 derived errors ignored. [Op:__inference_train_step_1826]\n\nFunction call stack:\ntrain_step -> train_step\n",
     "output_type": "error",
     "traceback": [
      "\u001b[0;31m---------------------------------------------------------------------------\u001b[0m",
      "\u001b[0;31mInvalidArgumentError\u001b[0m                      Traceback (most recent call last)",
      "\u001b[0;32m<timed exec>\u001b[0m in \u001b[0;36m<module>\u001b[0;34m\u001b[0m\n",
      "\u001b[0;32m~/miniforge3/envs/kdw/lib/python3.8/site-packages/tensorflow/python/eager/def_function.py\u001b[0m in \u001b[0;36m__call__\u001b[0;34m(self, *args, **kwds)\u001b[0m\n\u001b[1;32m    883\u001b[0m \u001b[0;34m\u001b[0m\u001b[0m\n\u001b[1;32m    884\u001b[0m       \u001b[0;32mwith\u001b[0m \u001b[0mOptionalXlaContext\u001b[0m\u001b[0;34m(\u001b[0m\u001b[0mself\u001b[0m\u001b[0;34m.\u001b[0m\u001b[0m_jit_compile\u001b[0m\u001b[0;34m)\u001b[0m\u001b[0;34m:\u001b[0m\u001b[0;34m\u001b[0m\u001b[0;34m\u001b[0m\u001b[0m\n\u001b[0;32m--> 885\u001b[0;31m         \u001b[0mresult\u001b[0m \u001b[0;34m=\u001b[0m \u001b[0mself\u001b[0m\u001b[0;34m.\u001b[0m\u001b[0m_call\u001b[0m\u001b[0;34m(\u001b[0m\u001b[0;34m*\u001b[0m\u001b[0margs\u001b[0m\u001b[0;34m,\u001b[0m \u001b[0;34m**\u001b[0m\u001b[0mkwds\u001b[0m\u001b[0;34m)\u001b[0m\u001b[0;34m\u001b[0m\u001b[0;34m\u001b[0m\u001b[0m\n\u001b[0m\u001b[1;32m    886\u001b[0m \u001b[0;34m\u001b[0m\u001b[0m\n\u001b[1;32m    887\u001b[0m       \u001b[0mnew_tracing_count\u001b[0m \u001b[0;34m=\u001b[0m \u001b[0mself\u001b[0m\u001b[0;34m.\u001b[0m\u001b[0mexperimental_get_tracing_count\u001b[0m\u001b[0;34m(\u001b[0m\u001b[0;34m)\u001b[0m\u001b[0;34m\u001b[0m\u001b[0;34m\u001b[0m\u001b[0m\n",
      "\u001b[0;32m~/miniforge3/envs/kdw/lib/python3.8/site-packages/tensorflow/python/eager/def_function.py\u001b[0m in \u001b[0;36m_call\u001b[0;34m(self, *args, **kwds)\u001b[0m\n\u001b[1;32m    948\u001b[0m         \u001b[0;31m# Lifting succeeded, so variables are initialized and we can run the\u001b[0m\u001b[0;34m\u001b[0m\u001b[0;34m\u001b[0m\u001b[0;34m\u001b[0m\u001b[0m\n\u001b[1;32m    949\u001b[0m         \u001b[0;31m# stateless function.\u001b[0m\u001b[0;34m\u001b[0m\u001b[0;34m\u001b[0m\u001b[0;34m\u001b[0m\u001b[0m\n\u001b[0;32m--> 950\u001b[0;31m         \u001b[0;32mreturn\u001b[0m \u001b[0mself\u001b[0m\u001b[0;34m.\u001b[0m\u001b[0m_stateless_fn\u001b[0m\u001b[0;34m(\u001b[0m\u001b[0;34m*\u001b[0m\u001b[0margs\u001b[0m\u001b[0;34m,\u001b[0m \u001b[0;34m**\u001b[0m\u001b[0mkwds\u001b[0m\u001b[0;34m)\u001b[0m\u001b[0;34m\u001b[0m\u001b[0;34m\u001b[0m\u001b[0m\n\u001b[0m\u001b[1;32m    951\u001b[0m     \u001b[0;32melse\u001b[0m\u001b[0;34m:\u001b[0m\u001b[0;34m\u001b[0m\u001b[0;34m\u001b[0m\u001b[0m\n\u001b[1;32m    952\u001b[0m       \u001b[0m_\u001b[0m\u001b[0;34m,\u001b[0m \u001b[0m_\u001b[0m\u001b[0;34m,\u001b[0m \u001b[0m_\u001b[0m\u001b[0;34m,\u001b[0m \u001b[0mfiltered_flat_args\u001b[0m \u001b[0;34m=\u001b[0m\u001b[0;31m \u001b[0m\u001b[0;31m\\\u001b[0m\u001b[0;34m\u001b[0m\u001b[0;34m\u001b[0m\u001b[0m\n",
      "\u001b[0;32m~/miniforge3/envs/kdw/lib/python3.8/site-packages/tensorflow/python/eager/function.py\u001b[0m in \u001b[0;36m__call__\u001b[0;34m(self, *args, **kwargs)\u001b[0m\n\u001b[1;32m   3037\u001b[0m       (graph_function,\n\u001b[1;32m   3038\u001b[0m        filtered_flat_args) = self._maybe_define_function(args, kwargs)\n\u001b[0;32m-> 3039\u001b[0;31m     return graph_function._call_flat(\n\u001b[0m\u001b[1;32m   3040\u001b[0m         filtered_flat_args, captured_inputs=graph_function.captured_inputs)  # pylint: disable=protected-access\n\u001b[1;32m   3041\u001b[0m \u001b[0;34m\u001b[0m\u001b[0m\n",
      "\u001b[0;32m~/miniforge3/envs/kdw/lib/python3.8/site-packages/tensorflow/python/eager/function.py\u001b[0m in \u001b[0;36m_call_flat\u001b[0;34m(self, args, captured_inputs, cancellation_manager)\u001b[0m\n\u001b[1;32m   1961\u001b[0m         and executing_eagerly):\n\u001b[1;32m   1962\u001b[0m       \u001b[0;31m# No tape is watching; skip to running the function.\u001b[0m\u001b[0;34m\u001b[0m\u001b[0;34m\u001b[0m\u001b[0;34m\u001b[0m\u001b[0m\n\u001b[0;32m-> 1963\u001b[0;31m       return self._build_call_outputs(self._inference_function.call(\n\u001b[0m\u001b[1;32m   1964\u001b[0m           ctx, args, cancellation_manager=cancellation_manager))\n\u001b[1;32m   1965\u001b[0m     forward_backward = self._select_forward_and_backward_functions(\n",
      "\u001b[0;32m~/miniforge3/envs/kdw/lib/python3.8/site-packages/tensorflow/python/eager/function.py\u001b[0m in \u001b[0;36mcall\u001b[0;34m(self, ctx, args, cancellation_manager)\u001b[0m\n\u001b[1;32m    589\u001b[0m       \u001b[0;32mwith\u001b[0m \u001b[0m_InterpolateFunctionError\u001b[0m\u001b[0;34m(\u001b[0m\u001b[0mself\u001b[0m\u001b[0;34m)\u001b[0m\u001b[0;34m:\u001b[0m\u001b[0;34m\u001b[0m\u001b[0;34m\u001b[0m\u001b[0m\n\u001b[1;32m    590\u001b[0m         \u001b[0;32mif\u001b[0m \u001b[0mcancellation_manager\u001b[0m \u001b[0;32mis\u001b[0m \u001b[0;32mNone\u001b[0m\u001b[0;34m:\u001b[0m\u001b[0;34m\u001b[0m\u001b[0;34m\u001b[0m\u001b[0m\n\u001b[0;32m--> 591\u001b[0;31m           outputs = execute.execute(\n\u001b[0m\u001b[1;32m    592\u001b[0m               \u001b[0mstr\u001b[0m\u001b[0;34m(\u001b[0m\u001b[0mself\u001b[0m\u001b[0;34m.\u001b[0m\u001b[0msignature\u001b[0m\u001b[0;34m.\u001b[0m\u001b[0mname\u001b[0m\u001b[0;34m)\u001b[0m\u001b[0;34m,\u001b[0m\u001b[0;34m\u001b[0m\u001b[0;34m\u001b[0m\u001b[0m\n\u001b[1;32m    593\u001b[0m               \u001b[0mnum_outputs\u001b[0m\u001b[0;34m=\u001b[0m\u001b[0mself\u001b[0m\u001b[0;34m.\u001b[0m\u001b[0m_num_outputs\u001b[0m\u001b[0;34m,\u001b[0m\u001b[0;34m\u001b[0m\u001b[0;34m\u001b[0m\u001b[0m\n",
      "\u001b[0;32m~/miniforge3/envs/kdw/lib/python3.8/site-packages/tensorflow/python/eager/execute.py\u001b[0m in \u001b[0;36mquick_execute\u001b[0;34m(op_name, num_outputs, inputs, attrs, ctx, name)\u001b[0m\n\u001b[1;32m     57\u001b[0m   \u001b[0;32mtry\u001b[0m\u001b[0;34m:\u001b[0m\u001b[0;34m\u001b[0m\u001b[0;34m\u001b[0m\u001b[0m\n\u001b[1;32m     58\u001b[0m     \u001b[0mctx\u001b[0m\u001b[0;34m.\u001b[0m\u001b[0mensure_initialized\u001b[0m\u001b[0;34m(\u001b[0m\u001b[0;34m)\u001b[0m\u001b[0;34m\u001b[0m\u001b[0;34m\u001b[0m\u001b[0m\n\u001b[0;32m---> 59\u001b[0;31m     tensors = pywrap_tfe.TFE_Py_Execute(ctx._handle, device_name, op_name,\n\u001b[0m\u001b[1;32m     60\u001b[0m                                         inputs, attrs, num_outputs)\n\u001b[1;32m     61\u001b[0m   \u001b[0;32mexcept\u001b[0m \u001b[0mcore\u001b[0m\u001b[0;34m.\u001b[0m\u001b[0m_NotOkStatusException\u001b[0m \u001b[0;32mas\u001b[0m \u001b[0me\u001b[0m\u001b[0;34m:\u001b[0m\u001b[0;34m\u001b[0m\u001b[0;34m\u001b[0m\u001b[0m\n",
      "\u001b[0;31mInvalidArgumentError\u001b[0m: 2 root error(s) found.\n  (0) Invalid argument:  Tried to append a tensor with incompatible shape to a list. Op element shape: [1,4] list shape: [1,2]\n\t [[{{node while/body/_1/while/TensorListPushBack_12}}]]\n\t [[Func/gradient_tape/while/while_grad/body/_172/input/_470/_86]]\n  (1) Invalid argument:  Tried to append a tensor with incompatible shape to a list. Op element shape: [1,4] list shape: [1,2]\n\t [[{{node while/body/_1/while/TensorListPushBack_12}}]]\n0 successful operations.\n0 derived errors ignored. [Op:__inference_train_step_1826]\n\nFunction call stack:\ntrain_step -> train_step\n"
     ]
    }
   ],
   "source": [
    "%%time\n",
    "\n",
    "max_episodes = 10000\n",
    "max_steps_per_episode = 1000\n",
    "\n",
    "# Cartpole-v0 is considered solved if average reward is >= 195 over 100 \n",
    "# consecutive trials\n",
    "reward_threshold = 195\n",
    "running_reward = 0\n",
    "\n",
    "# Discount factor for future rewards\n",
    "gamma = 0.99\n",
    "\n",
    "with tqdm.trange(max_episodes) as t:\n",
    "  for i in t:\n",
    "    initial_state = tf.constant(env.reset(), dtype=tf.float32)\n",
    "    episode_reward = int(train_step(\n",
    "        initial_state, model, optimizer, gamma, max_steps_per_episode))\n",
    "\n",
    "    running_reward = episode_reward*0.01 + running_reward*.99\n",
    "  \n",
    "    t.set_description(f'Episode {i}')\n",
    "    t.set_postfix(\n",
    "        episode_reward=episode_reward, running_reward=running_reward)\n",
    "  \n",
    "    # Show average episode reward every 10 episodes\n",
    "    if i % 10 == 0:\n",
    "      pass # print(f'Episode {i}: average reward: {avg_reward}')\n",
    "  \n",
    "    if running_reward > reward_threshold:  \n",
    "        break\n",
    "\n",
    "print(f'\\nSolved at episode {i}: average reward: {running_reward:.2f}!')"
   ]
  },
  {
   "cell_type": "markdown",
   "metadata": {
    "id": "ru8BEwS1EmAv"
   },
   "source": [
    "## 시각화\n",
    "\n",
    "훈련 후에는 모델이 환경에서 어떻게 동작하는지 시각화하는 것이 좋습니다. 아래 셀을 실행하여 모델의 한 에피소드 실행에 대한 GIF 애니메이션을 생성할 수 있습니다. Colab에서 환경의 이미지를 올바르게 렌더링하려면 OpenAI Gym에 대한 추가 패키지를 설치해야 합니다."
   ]
  },
  {
   "cell_type": "code",
   "execution_count": 13,
   "metadata": {
    "execution": {
     "iopub.execute_input": "2021-04-07T18:40:26.978426Z",
     "iopub.status.busy": "2021-04-07T18:40:26.977816Z",
     "iopub.status.idle": "2021-04-07T18:40:28.863960Z",
     "shell.execute_reply": "2021-04-07T18:40:28.864361Z"
    },
    "id": "qbIMMkfmRHyC"
   },
   "outputs": [],
   "source": [
    "# Render an episode and save as a GIF file\n",
    "\n",
    "from IPython import display as ipythondisplay\n",
    "from PIL import Image\n",
    "from pyvirtualdisplay import Display\n",
    "\n",
    "\n",
    "display = Display(visible=0, size=(400, 300))\n",
    "display.start()\n",
    "\n",
    "\n",
    "def render_episode(env: gym.Env, model: tf.keras.Model, max_steps: int): \n",
    "  screen = env.render(mode='rgb_array')\n",
    "  im = Image.fromarray(screen)\n",
    "\n",
    "  images = [im]\n",
    "  \n",
    "  state = tf.constant(env.reset(), dtype=tf.float32)\n",
    "  for i in range(1, max_steps + 1):\n",
    "    state = tf.expand_dims(state, 0)\n",
    "    action_probs, _ = model(state)\n",
    "    action = np.argmax(np.squeeze(action_probs))\n",
    "\n",
    "    state, _, done, _ = env.step(action)\n",
    "    state = tf.constant(state, dtype=tf.float32)\n",
    "\n",
    "    # Render screen every 10 steps\n",
    "    if i % 10 == 0:\n",
    "      screen = env.render(mode='rgb_array')\n",
    "      images.append(Image.fromarray(screen))\n",
    "  \n",
    "    if done:\n",
    "      break\n",
    "  \n",
    "  return images\n",
    "\n",
    "\n",
    "# Save GIF image\n",
    "images = render_episode(env, model, max_steps_per_episode)\n",
    "image_file = 'cartpole-v0.gif'\n",
    "# loop=0: loop forever, duration=1: play each frame for 1ms\n",
    "images[0].save(\n",
    "    image_file, save_all=True, append_images=images[1:], loop=0, duration=1)"
   ]
  },
  {
   "cell_type": "code",
   "execution_count": 14,
   "metadata": {
    "execution": {
     "iopub.execute_input": "2021-04-07T18:40:28.868479Z",
     "iopub.status.busy": "2021-04-07T18:40:28.867884Z",
     "iopub.status.idle": "2021-04-07T18:40:28.895554Z",
     "shell.execute_reply": "2021-04-07T18:40:28.895958Z"
    },
    "id": "TLd720SejKmf"
   },
   "outputs": [
    {
     "data": {
      "text/html": [
       "<img src=\"data:image/gif;base64,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\"/>"
      ],
      "text/plain": [
       "<IPython.core.display.HTML object>"
      ]
     },
     "execution_count": 1,
     "metadata": {},
     "output_type": "execute_result"
    }
   ],
   "source": [
    "import tensorflow_docs.vis.embed as embed\n",
    "embed.embed_file(image_file)"
   ]
  },
  {
   "cell_type": "markdown",
   "metadata": {
    "id": "lnq9Hzo1Po6X"
   },
   "source": [
    "## 다음 단계\n",
    "\n",
    "이 튜토리얼에서는 Tensorflow를 사용하여 Actor-Critic 방법을 구현하는 방법을 보여주었습니다.\n",
    "\n",
    "다음 단계로 OpenAI Gym의 다른 환경에서 모델의 훈련을 시도할 수 있습니다.\n",
    "\n",
    "Actor-Critic 방법 및 Cartpole-v0 문제에 대한 추가 정보는 다음 리소스를 참조하세요.\n",
    "\n",
    "- [Actor Critic 방법](https://hal.inria.fr/hal-00840470/document)\n",
    "- [CAL(Actor Critic Lecture)](https://www.youtube.com/watch?v=EKqxumCuAAY&list=PLkFD6_40KJIwhWJpGazJ9VSj9CFMkb79A&index=7&t=0s)\n",
    "- [카트폴 학습 제어 문제 [Barto 등 1983]](http://www.derongliu.org/adp/adp-cdrom/Barto1983.pdf)\n",
    "\n",
    "TensorFlow에서 더 많은 강화 학습 예를 보려면 다음 리소스를 확인하세요.\n",
    "\n",
    "- [강화 학습 코드 예제(keras.io)](https://keras.io/examples/rl/)\n",
    "- [TF-Agents 강화 학습 라이브러리](https://www.tensorflow.org/agents)\n"
   ]
  }
 ],
 "metadata": {
  "colab": {
   "collapsed_sections": [
    "_jQ1tEQCxwRx"
   ],
   "name": "actor_critic.ipynb",
   "toc_visible": true
  },
  "kernelspec": {
   "display_name": "Python 3",
   "name": "python3"
  },
  "language_info": {
   "codemirror_mode": {
    "name": "ipython",
    "version": 3
   },
   "file_extension": ".py",
   "mimetype": "text/x-python",
   "name": "python",
   "nbconvert_exporter": "python",
   "pygments_lexer": "ipython3",
   "version": "3.8.12"
  }
 },
 "nbformat": 4,
 "nbformat_minor": 0
}
